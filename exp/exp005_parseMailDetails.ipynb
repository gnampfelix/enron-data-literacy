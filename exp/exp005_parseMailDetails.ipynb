{
 "cells": [
  {
   "cell_type": "markdown",
   "id": "34168431",
   "metadata": {},
   "source": [
    "In this experiment, I want to get used to more advanced mail parsing in order to include more mails in our converted dataset."
   ]
  },
  {
   "cell_type": "code",
   "execution_count": 14,
   "id": "f7f568d7",
   "metadata": {},
   "outputs": [],
   "source": [
    "import email.parser as parser\n",
    "import pandas as pd\n",
    "import numpy as np\n",
    "import re\n",
    "import os\n",
    "\n",
    "def read_maildir(path):\n",
    "    return read_folder(path)\n",
    "        \n",
    "def read_folder(path):\n",
    "    result = {}\n",
    "    children = os.listdir(path)\n",
    "    for child in children:\n",
    "        child_path = os.path.join(path, child)\n",
    "        if os.path.isdir(child_path):\n",
    "            result.update(read_folder(child_path))\n",
    "        else:\n",
    "            with open(child_path, \"rb\") as f:\n",
    "                message = parser.BytesParser().parse(f, headersonly=True)\n",
    "                result[child_path] = {\n",
    "                    \"from\": message[\"from\"], \n",
    "                    \"to\": message[\"to\"], \n",
    "                    \"subject\": message[\"subject\"], \n",
    "                    \"date\": message[\"date\"]}\n",
    "    return result   \n",
    "    \n",
    "mails = read_maildir(\"../data/maildir\")"
   ]
  },
  {
   "cell_type": "code",
   "execution_count": 15,
   "id": "93e2adce",
   "metadata": {},
   "outputs": [
    {
     "data": {
      "text/html": [
       "<div>\n",
       "<style scoped>\n",
       "    .dataframe tbody tr th:only-of-type {\n",
       "        vertical-align: middle;\n",
       "    }\n",
       "\n",
       "    .dataframe tbody tr th {\n",
       "        vertical-align: top;\n",
       "    }\n",
       "\n",
       "    .dataframe thead th {\n",
       "        text-align: right;\n",
       "    }\n",
       "</style>\n",
       "<table border=\"1\" class=\"dataframe\">\n",
       "  <thead>\n",
       "    <tr style=\"text-align: right;\">\n",
       "      <th></th>\n",
       "      <th>from</th>\n",
       "      <th>to</th>\n",
       "      <th>subject</th>\n",
       "      <th>date</th>\n",
       "    </tr>\n",
       "  </thead>\n",
       "  <tbody>\n",
       "    <tr>\n",
       "      <th>../data/maildir/mckay-b/all_documents/44.</th>\n",
       "      <td>brad.mckay@enron.com</td>\n",
       "      <td>glaguarta@cadencemcshane.com</td>\n",
       "      <td>Re: Dove hunt</td>\n",
       "      <td>Tue, 18 Jul 2000 08:04:00 -0700 (PDT)</td>\n",
       "    </tr>\n",
       "    <tr>\n",
       "      <th>../data/maildir/mckay-b/all_documents/11.</th>\n",
       "      <td>brad.mckay@enron.com</td>\n",
       "      <td>rex@arn.net</td>\n",
       "      <td>Re: The Deal!</td>\n",
       "      <td>Thu, 7 Dec 2000 07:05:00 -0800 (PST)</td>\n",
       "    </tr>\n",
       "    <tr>\n",
       "      <th>../data/maildir/mckay-b/all_documents/61.</th>\n",
       "      <td>brad.mckay@enron.com</td>\n",
       "      <td>8915473@archwireless.net</td>\n",
       "      <td>Re: Wireless Message</td>\n",
       "      <td>Tue, 8 May 2001 08:34:00 -0700 (PDT)</td>\n",
       "    </tr>\n",
       "    <tr>\n",
       "      <th>../data/maildir/mckay-b/all_documents/57.</th>\n",
       "      <td>brad.mckay@enron.com</td>\n",
       "      <td>8915473@archwireless.net</td>\n",
       "      <td>Re: Wireless Message</td>\n",
       "      <td>Wed, 9 May 2001 09:14:00 -0700 (PDT)</td>\n",
       "    </tr>\n",
       "    <tr>\n",
       "      <th>../data/maildir/mckay-b/all_documents/38.</th>\n",
       "      <td>brad.mckay@enron.com</td>\n",
       "      <td>ghathaway@mmcable.com</td>\n",
       "      <td>Re: Follow-up from Friday meetings with Enron</td>\n",
       "      <td>Mon, 18 Sep 2000 04:55:00 -0700 (PDT)</td>\n",
       "    </tr>\n",
       "  </tbody>\n",
       "</table>\n",
       "</div>"
      ],
      "text/plain": [
       "                                                           from  \\\n",
       "../data/maildir/mckay-b/all_documents/44.  brad.mckay@enron.com   \n",
       "../data/maildir/mckay-b/all_documents/11.  brad.mckay@enron.com   \n",
       "../data/maildir/mckay-b/all_documents/61.  brad.mckay@enron.com   \n",
       "../data/maildir/mckay-b/all_documents/57.  brad.mckay@enron.com   \n",
       "../data/maildir/mckay-b/all_documents/38.  brad.mckay@enron.com   \n",
       "\n",
       "                                                                     to  \\\n",
       "../data/maildir/mckay-b/all_documents/44.  glaguarta@cadencemcshane.com   \n",
       "../data/maildir/mckay-b/all_documents/11.                   rex@arn.net   \n",
       "../data/maildir/mckay-b/all_documents/61.      8915473@archwireless.net   \n",
       "../data/maildir/mckay-b/all_documents/57.      8915473@archwireless.net   \n",
       "../data/maildir/mckay-b/all_documents/38.         ghathaway@mmcable.com   \n",
       "\n",
       "                                                                                 subject  \\\n",
       "../data/maildir/mckay-b/all_documents/44.                                  Re: Dove hunt   \n",
       "../data/maildir/mckay-b/all_documents/11.                                  Re: The Deal!   \n",
       "../data/maildir/mckay-b/all_documents/61.                           Re: Wireless Message   \n",
       "../data/maildir/mckay-b/all_documents/57.                           Re: Wireless Message   \n",
       "../data/maildir/mckay-b/all_documents/38.  Re: Follow-up from Friday meetings with Enron   \n",
       "\n",
       "                                                                            date  \n",
       "../data/maildir/mckay-b/all_documents/44.  Tue, 18 Jul 2000 08:04:00 -0700 (PDT)  \n",
       "../data/maildir/mckay-b/all_documents/11.   Thu, 7 Dec 2000 07:05:00 -0800 (PST)  \n",
       "../data/maildir/mckay-b/all_documents/61.   Tue, 8 May 2001 08:34:00 -0700 (PDT)  \n",
       "../data/maildir/mckay-b/all_documents/57.   Wed, 9 May 2001 09:14:00 -0700 (PDT)  \n",
       "../data/maildir/mckay-b/all_documents/38.  Mon, 18 Sep 2000 04:55:00 -0700 (PDT)  "
      ]
     },
     "execution_count": 15,
     "metadata": {},
     "output_type": "execute_result"
    }
   ],
   "source": [
    "df = pd.DataFrame(mails).transpose()\n",
    "df.head()"
   ]
  },
  {
   "cell_type": "code",
   "execution_count": 16,
   "id": "82ff1535",
   "metadata": {},
   "outputs": [
    {
     "data": {
      "text/plain": [
       "517401"
      ]
     },
     "execution_count": 16,
     "metadata": {},
     "output_type": "execute_result"
    }
   ],
   "source": [
    "len(df)"
   ]
  },
  {
   "cell_type": "code",
   "execution_count": 18,
   "id": "bef4cb6b",
   "metadata": {},
   "outputs": [
    {
     "name": "stdout",
     "output_type": "stream",
     "text": [
      "429754\n",
      "197960\n"
     ]
    }
   ],
   "source": [
    "mails_from_enron = df[df[\"from\"].str.contains(\"enron.com\", case=False)]\n",
    "print(len(mails_from_enron))\n",
    "mails_from_enron_without_duplicates = mails_from_enron.drop_duplicates(subset=[\"from\", \"subject\", \"date\"])\n",
    "print(len(mails_from_enron_without_duplicates))"
   ]
  },
  {
   "cell_type": "code",
   "execution_count": 20,
   "id": "005eb53f",
   "metadata": {},
   "outputs": [
    {
     "name": "stdout",
     "output_type": "stream",
     "text": [
      "Without trimming\n",
      "                                                                     from  \\\n",
      "../data/maildir/ybarbo-p/inbox/604.                chairman.ken@enron.com   \n",
      "../data/maildir/reitmeyer-j/inbox/438.             chairman.ken@enron.com   \n",
      "../data/maildir/ruscitti-k/inbox/253.              chairman.ken@enron.com   \n",
      "../data/maildir/whalley-g/inbox/349.               chairman.ken@enron.com   \n",
      "../data/maildir/weldon-c/deleted_items/205.        chairman.ken@enron.com   \n",
      "...                                                                   ...   \n",
      "../data/maildir/stepenovitch-j/deleted_items/216.  chairman.ken@enron.com   \n",
      "../data/maildir/campbell-l/inbox/1455.             chairman.ken@enron.com   \n",
      "../data/maildir/hodge-j/inbox/673.                 chairman.ken@enron.com   \n",
      "../data/maildir/buy-r/inbox/480.                   chairman.ken@enron.com   \n",
      "../data/maildir/heard-m/inbox/227.                 chairman.ken@enron.com   \n",
      "\n",
      "                                                                                     to  \\\n",
      "../data/maildir/ybarbo-p/inbox/604.                dl-ga-all_enron_worldwide5@enron.com   \n",
      "../data/maildir/reitmeyer-j/inbox/438.             dl-ga-all_enron_worldwide2@enron.com   \n",
      "../data/maildir/ruscitti-k/inbox/253.              dl-ga-all_enron_worldwide2@enron.com   \n",
      "../data/maildir/whalley-g/inbox/349.               dl-ga-all_enron_worldwide1@enron.com   \n",
      "../data/maildir/weldon-c/deleted_items/205.        dl-ga-all_enron_worldwide5@enron.com   \n",
      "...                                                                                 ...   \n",
      "../data/maildir/stepenovitch-j/deleted_items/216.  dl-ga-all_enron_worldwide1@enron.com   \n",
      "../data/maildir/campbell-l/inbox/1455.             dl-ga-all_enron_worldwide1@enron.com   \n",
      "../data/maildir/hodge-j/inbox/673.                 dl-ga-all_enron_worldwide2@enron.com   \n",
      "../data/maildir/buy-r/inbox/480.                   dl-ga-all_enron_worldwide5@enron.com   \n",
      "../data/maildir/heard-m/inbox/227.                 dl-ga-all_enron_worldwide6@enron.com   \n",
      "\n",
      "                                                                                subject  \\\n",
      "../data/maildir/ybarbo-p/inbox/604.                Overview of Investor Conference Call   \n",
      "../data/maildir/reitmeyer-j/inbox/438.             Overview of Investor Conference Call   \n",
      "../data/maildir/ruscitti-k/inbox/253.              Overview of Investor Conference Call   \n",
      "../data/maildir/whalley-g/inbox/349.               Overview of Investor Conference Call   \n",
      "../data/maildir/weldon-c/deleted_items/205.        Overview of Investor Conference Call   \n",
      "...                                                                                 ...   \n",
      "../data/maildir/stepenovitch-j/deleted_items/216.  Overview of Investor Conference Call   \n",
      "../data/maildir/campbell-l/inbox/1455.             Overview of Investor Conference Call   \n",
      "../data/maildir/hodge-j/inbox/673.                 Overview of Investor Conference Call   \n",
      "../data/maildir/buy-r/inbox/480.                   Overview of Investor Conference Call   \n",
      "../data/maildir/heard-m/inbox/227.                 Overview of Investor Conference Call   \n",
      "\n",
      "                                                                                    date  \n",
      "../data/maildir/ybarbo-p/inbox/604.                Wed, 14 Nov 2001 19:39:48 -0800 (PST)  \n",
      "../data/maildir/reitmeyer-j/inbox/438.             Wed, 14 Nov 2001 19:29:29 -0800 (PST)  \n",
      "../data/maildir/ruscitti-k/inbox/253.              Wed, 14 Nov 2001 19:29:29 -0800 (PST)  \n",
      "../data/maildir/whalley-g/inbox/349.               Wed, 14 Nov 2001 19:26:42 -0800 (PST)  \n",
      "../data/maildir/weldon-c/deleted_items/205.        Wed, 14 Nov 2001 19:39:48 -0800 (PST)  \n",
      "...                                                                                  ...  \n",
      "../data/maildir/stepenovitch-j/deleted_items/216.  Wed, 14 Nov 2001 19:26:42 -0800 (PST)  \n",
      "../data/maildir/campbell-l/inbox/1455.             Wed, 14 Nov 2001 19:26:42 -0800 (PST)  \n",
      "../data/maildir/hodge-j/inbox/673.                 Wed, 14 Nov 2001 19:29:29 -0800 (PST)  \n",
      "../data/maildir/buy-r/inbox/480.                   Wed, 14 Nov 2001 19:39:48 -0800 (PST)  \n",
      "../data/maildir/heard-m/inbox/227.                 Wed, 14 Nov 2001 19:40:26 -0800 (PST)  \n",
      "\n",
      "[68 rows x 4 columns]\n",
      "With trimming\n",
      "                                                          from  \\\n",
      "../data/maildir/ybarbo-p/inbox/604.     chairman.ken@enron.com   \n",
      "../data/maildir/reitmeyer-j/inbox/438.  chairman.ken@enron.com   \n",
      "../data/maildir/whalley-g/inbox/349.    chairman.ken@enron.com   \n",
      "../data/maildir/smith-m/inbox/449.      chairman.ken@enron.com   \n",
      "../data/maildir/crandell-s/inbox/102.   chairman.ken@enron.com   \n",
      "../data/maildir/dean-c/inbox/39.        chairman.ken@enron.com   \n",
      "\n",
      "                                                                          to  \\\n",
      "../data/maildir/ybarbo-p/inbox/604.     dl-ga-all_enron_worldwide5@enron.com   \n",
      "../data/maildir/reitmeyer-j/inbox/438.  dl-ga-all_enron_worldwide2@enron.com   \n",
      "../data/maildir/whalley-g/inbox/349.    dl-ga-all_enron_worldwide1@enron.com   \n",
      "../data/maildir/smith-m/inbox/449.      dl-ga-all_enron_worldwide6@enron.com   \n",
      "../data/maildir/crandell-s/inbox/102.   dl-ga-all_enron_worldwide2@enron.com   \n",
      "../data/maildir/dean-c/inbox/39.        dl-ga-all_enron_worldwide1@enron.com   \n",
      "\n",
      "                                                                     subject  \\\n",
      "../data/maildir/ybarbo-p/inbox/604.     Overview of Investor Conference Call   \n",
      "../data/maildir/reitmeyer-j/inbox/438.  Overview of Investor Conference Call   \n",
      "../data/maildir/whalley-g/inbox/349.    Overview of Investor Conference Call   \n",
      "../data/maildir/smith-m/inbox/449.      Overview of Investor Conference Call   \n",
      "../data/maildir/crandell-s/inbox/102.   Overview of Investor Conference Call   \n",
      "../data/maildir/dean-c/inbox/39.        Overview of Investor Conference Call   \n",
      "\n",
      "                                                                         date  \n",
      "../data/maildir/ybarbo-p/inbox/604.     Wed, 14 Nov 2001 19:39:48 -0800 (PST)  \n",
      "../data/maildir/reitmeyer-j/inbox/438.  Wed, 14 Nov 2001 19:29:29 -0800 (PST)  \n",
      "../data/maildir/whalley-g/inbox/349.    Wed, 14 Nov 2001 19:26:42 -0800 (PST)  \n",
      "../data/maildir/smith-m/inbox/449.      Wed, 14 Nov 2001 19:40:26 -0800 (PST)  \n",
      "../data/maildir/crandell-s/inbox/102.   Wed, 14 Nov 2001 23:29:29 -0800 (PST)  \n",
      "../data/maildir/dean-c/inbox/39.        Wed, 14 Nov 2001 23:26:42 -0800 (PST)  \n"
     ]
    }
   ],
   "source": [
    "# Verify that duplicates were removed correctly\n",
    "print(\"Without trimming\")\n",
    "print(mails_from_enron[mails_from_enron[\"subject\"] == \"Overview of Investor Conference Call\"])\n",
    "print(\"With trimming\")\n",
    "print(mails_from_enron_without_duplicates[mails_from_enron_without_duplicates[\"subject\"] == \"Overview of Investor Conference Call\"])"
   ]
  },
  {
   "cell_type": "code",
   "execution_count": null,
   "id": "f54ab5df",
   "metadata": {},
   "outputs": [],
   "source": []
  }
 ],
 "metadata": {
  "kernelspec": {
   "display_name": "Python 3 (ipykernel)",
   "language": "python",
   "name": "python3"
  },
  "language_info": {
   "codemirror_mode": {
    "name": "ipython",
    "version": 3
   },
   "file_extension": ".py",
   "mimetype": "text/x-python",
   "name": "python",
   "nbconvert_exporter": "python",
   "pygments_lexer": "ipython3",
   "version": "3.10.1"
  }
 },
 "nbformat": 4,
 "nbformat_minor": 5
}
