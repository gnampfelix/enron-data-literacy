{
 "cells": [
  {
   "cell_type": "markdown",
   "id": "2d9ce0ad",
   "metadata": {},
   "source": [
    "In the last experiments, we've identified several duplicate emails due to personal mailbox management (some people keep copies of mails in different folders), duplicate emails because they are in the dataset from both the sender and the receiver, and duplicate emails because of the Enron mail migration from Lotus to Outlook. In this experiment, we want to conclude the deduplication process by plotting the complete Enron data once again."
   ]
  },
  {
   "cell_type": "code",
   "execution_count": 1,
   "id": "f16557d5",
   "metadata": {},
   "outputs": [],
   "source": [
    "%run ../src/parse_mails2.py\n",
    "\n",
    "df = parse_maildir2(\"../data/maildir\")"
   ]
  },
  {
   "cell_type": "code",
   "execution_count": null,
   "id": "e8593486",
   "metadata": {},
   "outputs": [],
   "source": []
  }
 ],
 "metadata": {
  "kernelspec": {
   "display_name": "Python 3 (ipykernel)",
   "language": "python",
   "name": "python3"
  },
  "language_info": {
   "codemirror_mode": {
    "name": "ipython",
    "version": 3
   },
   "file_extension": ".py",
   "mimetype": "text/x-python",
   "name": "python",
   "nbconvert_exporter": "python",
   "pygments_lexer": "ipython3",
   "version": "3.10.1"
  }
 },
 "nbformat": 4,
 "nbformat_minor": 5
}
